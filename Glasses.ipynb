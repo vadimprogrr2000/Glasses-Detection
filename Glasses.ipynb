{
  "nbformat": 4,
  "nbformat_minor": 0,
  "metadata": {
    "colab": {
      "provenance": []
    },
    "kernelspec": {
      "name": "python3",
      "display_name": "Python 3"
    },
    "language_info": {
      "name": "python"
    }
  },
  "cells": [
    {
      "cell_type": "code",
      "execution_count": null,
      "metadata": {
        "id": "mGpeG50E-Mnu"
      },
      "outputs": [],
      "source": [
        "import cv2\n",
        "import os\n",
        "import numpy as np\n",
        "import pandas as pd\n",
        "import matplotlib.pyplot as plt\n",
        "import seaborn as sns\n",
        "import random"
      ]
    },
    {
      "cell_type": "code",
      "source": [
        "train=pd.read_csv(\"/kaggle/input/applications-of-deep-learning-wustl-fall-2023/train.csv\")\n",
        "test=pd.read_csv(\"/kaggle/input/applications-of-deep-learning-wustl-fall-2023/test.csv\")"
      ],
      "metadata": {
        "id": "OhG1km-l-R31"
      },
      "execution_count": null,
      "outputs": []
    },
    {
      "cell_type": "code",
      "source": [
        "train.head()"
      ],
      "metadata": {
        "id": "X6D_hpQN-UcJ"
      },
      "execution_count": null,
      "outputs": []
    },
    {
      "cell_type": "code",
      "source": [
        "train.shape,test.shape"
      ],
      "metadata": {
        "id": "ovbjS5xu-V8b"
      },
      "execution_count": null,
      "outputs": []
    },
    {
      "cell_type": "code",
      "source": [
        "img_path = r\"/kaggle/input/applications-of-deep-learning-wustl-fall-2023\""
      ],
      "metadata": {
        "id": "RHXwYSP0-XnN"
      },
      "execution_count": null,
      "outputs": []
    },
    {
      "cell_type": "code",
      "source": [
        "files = os.listdir(img_path)\n",
        "random_files = random.sample(files, 16)\n",
        "\n",
        "plt.figure(figsize=(10,10))\n",
        "for i in range(16):\n",
        "    plt.subplot(4,4,i+1)\n",
        "    img = cv2.imread(os.path.join(img_path, random_files[i]))\n",
        "    plt.imshow(cv2.cvtColor(img, cv2.COLOR_BGR2RGB))\n",
        "    plt.axis(\"off\")\n",
        "plt.show()"
      ],
      "metadata": {
        "id": "nH4i_aps-Y_r"
      },
      "execution_count": null,
      "outputs": []
    },
    {
      "cell_type": "code",
      "source": [
        "def pre_img(df, img_path, size=128):\n",
        "    X = []\n",
        "    for img in df:\n",
        "        img_file = os.path.join(img_path, str(img))\n",
        "        img = cv2.imread(img_file)\n",
        "        img = cv2.resize(img, (size, size))\n",
        "        img = img / 255.0\n",
        "        X.append(img)\n",
        "    X = np.array(X)\n",
        "    return X"
      ],
      "metadata": {
        "id": "zrgTL9of-auq"
      },
      "execution_count": null,
      "outputs": []
    },
    {
      "cell_type": "code",
      "source": [
        "X_train = pre_img(train[\"file\"], img_path)\n",
        "y_train = train[\"glasses\"]"
      ],
      "metadata": {
        "id": "9aipxRIb-cfJ"
      },
      "execution_count": null,
      "outputs": []
    },
    {
      "cell_type": "code",
      "source": [
        "from sklearn.metrics import r2_score, mean_squared_error\n",
        "from sklearn.model_selection import train_test_split\n",
        "X_train, X_val, y_train, y_val = train_test_split(X_train, y_train, test_size=.20, random_state=42)\n",
        "from keras.models import Sequential\n",
        "from keras.layers import Conv2D, Dense, Flatten, Input, MaxPooling2D, Dropout,BatchNormalization"
      ],
      "metadata": {
        "id": "uLqQsgb_-eBO"
      },
      "execution_count": null,
      "outputs": []
    },
    {
      "cell_type": "code",
      "source": [
        "from tensorflow.keras.models import Sequential\n",
        "from tensorflow.keras.layers import Conv2D, BatchNormalization, MaxPooling2D, Flatten, Dense, Dropout\n",
        "from tensorflow.keras.callbacks import EarlyStopping\n",
        "\n",
        "size=128\n",
        "model = Sequential()\n",
        "\n",
        "model.add(Conv2D(64, (3, 3), activation='relu', input_shape=(size, size, 3)))\n",
        "model.add(BatchNormalization())\n",
        "model.add(MaxPooling2D(pool_size=(2, 2)))\n",
        "model.add(Dropout(0.2))\n",
        "\n",
        "model.add(Conv2D(128, (3, 3), activation='relu', padding='same'))\n",
        "model.add(BatchNormalization())\n",
        "model.add(MaxPooling2D(pool_size=(2, 2)))\n",
        "model.add(Dropout(0.3))\n",
        "\n",
        "model.add(Flatten())\n",
        "model.add(Dense(128, activation='relu'))\n",
        "model.add(Dropout(0.4))\n",
        "model.add(Dense(32, activation='relu'))\n",
        "model.add(Dropout(0.3))\n",
        "model.add(Dense(8, activation='relu'))\n",
        "model.add(Dense(1, activation='sigmoid'))\n",
        "\n",
        "model.compile(optimizer=\"adam\", loss=\"binary_crossentropy\", metrics=['accuracy'])\n",
        "\n",
        "# Erken Durdurma\n",
        "early_stopping = EarlyStopping(monitor='val_loss', patience=5, verbose=1)"
      ],
      "metadata": {
        "id": "vaYaTBSU-fxS"
      },
      "execution_count": null,
      "outputs": []
    },
    {
      "cell_type": "code",
      "source": [
        "history=model.fit(X_train, y_train, validation_data=(X_val, y_val), epochs=100, batch_size=32, callbacks=[early_stopping],verbose=1)"
      ],
      "metadata": {
        "id": "4A-ckduc-iMc"
      },
      "execution_count": null,
      "outputs": []
    },
    {
      "cell_type": "code",
      "source": [
        "X_test = pre_img(test[\"file\"], img_path)\n",
        "submission = pd.read_csv(\"/kaggle/input/applications-of-deep-learning-wustl-fall-2023/sample_submission.csv\")\n",
        "submission[\"glasses\"] = model.predict(X_test).round().astype(int)\n",
        "submission.to_csv(\"submission.csv\", index=False)\n",
        "submission"
      ],
      "metadata": {
        "id": "79XyQ9bD-koo"
      },
      "execution_count": null,
      "outputs": []
    },
    {
      "cell_type": "code",
      "source": [
        "model.save(\"model_glass.keras\")"
      ],
      "metadata": {
        "id": "-CYDsnm8-nuu"
      },
      "execution_count": null,
      "outputs": []
    }
  ]
}